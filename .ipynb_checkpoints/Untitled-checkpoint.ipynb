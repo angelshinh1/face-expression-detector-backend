{
 "cells": [
  {
   "cell_type": "code",
   "execution_count": null,
   "id": "bc9684fa-b907-47a7-a778-27755c94b1a2",
   "metadata": {},
   "outputs": [],
   "source": [
    "#dependencies\n",
    "from keras.utils import to_categorical\n",
    "from keras_preprocessing.image import load_img\n",
    "from keras.models import Sequential\n",
    "from keras.layers import Dense, Conv2D, Dropout, Flatten, MaxPooling2D\n",
    "from tqdm.notebook import tqdm\n",
    "import os\n",
    "import pandas as pd\n",
    "import numpy as np\n"
   ]
  },
  {
   "cell_type": "code",
   "execution_count": null,
   "id": "09792405-ccbc-43d8-ada5-b86c0e3fb3d0",
   "metadata": {},
   "outputs": [],
   "source": [
    "# validation is for testing\n",
    "DIR_train = 'images/images/train'\n",
    "DIR_test = 'images/images/validation'\n",
    "def generateDF(dir):\n",
    "    image_paths = []\n",
    "    labels = []\n",
    "    for label in os.listdir(dir):\n",
    "        for image_name in os.listdir(os.path.join(dir,label)):\n",
    "            image_paths.append(os.path.join(dir,label,image_name))\n",
    "            labels.append(label)\n",
    "        print(label,\" Completed\")\n",
    "    return image_paths,labels"
   ]
  },
  {
   "cell_type": "code",
   "execution_count": null,
   "id": "faf69324-8d86-481f-95bc-279b81fc0e50",
   "metadata": {},
   "outputs": [],
   "source": [
    "# generate the DF for training\n",
    "train = pd.DataFrame()\n",
    "train['image'], train['label'] = generateDF(DIR_train)\n"
   ]
  },
  {
   "cell_type": "code",
   "execution_count": null,
   "id": "d170d91a-628e-4481-a033-8a4b4ada463d",
   "metadata": {},
   "outputs": [],
   "source": [
    "train"
   ]
  },
  {
   "cell_type": "code",
   "execution_count": null,
   "id": "91396867-2fde-4443-a601-32b7d3a23998",
   "metadata": {},
   "outputs": [],
   "source": [
    "# generate the DF for test\n",
    "test = pd.DataFrame()\n",
    "test['image'], test['label'] = generateDF(DIR_test)"
   ]
  },
  {
   "cell_type": "code",
   "execution_count": null,
   "id": "caf70c6d-8451-47e5-8aaf-71bfc805699e",
   "metadata": {},
   "outputs": [],
   "source": [
    "test"
   ]
  },
  {
   "cell_type": "code",
   "execution_count": null,
   "id": "f8402ca2-6c2d-40d4-8b1b-6b0e3ec5847c",
   "metadata": {},
   "outputs": [],
   "source": [
    "# function to extract specific features from images\n",
    "def get_features(images):\n",
    "    features = []\n",
    "    for image in tqdm(images):\n",
    "        img = load_img(image,color_mode=\"grayscale\")\n",
    "        img = np.array(img)\n",
    "        features.append(img)\n",
    "    features = np.array(features)\n",
    "    features = features.reshape(len(features),48,48,1)\n",
    "    return features"
   ]
  },
  {
   "cell_type": "code",
   "execution_count": null,
   "id": "6a3100cf-bb62-42b7-af6a-647f6d52043b",
   "metadata": {
    "scrolled": true
   },
   "outputs": [],
   "source": [
    "train_feats = get_features(train['image'])"
   ]
  },
  {
   "cell_type": "code",
   "execution_count": null,
   "id": "5a3c4cf5-3cac-4978-82a2-27482d85f51b",
   "metadata": {},
   "outputs": [],
   "source": []
  }
 ],
 "metadata": {
  "kernelspec": {
   "display_name": "Python 3 (ipykernel)",
   "language": "python",
   "name": "python3"
  },
  "language_info": {
   "codemirror_mode": {
    "name": "ipython",
    "version": 3
   },
   "file_extension": ".py",
   "mimetype": "text/x-python",
   "name": "python",
   "nbconvert_exporter": "python",
   "pygments_lexer": "ipython3",
   "version": "3.12.1"
  }
 },
 "nbformat": 4,
 "nbformat_minor": 5
}
